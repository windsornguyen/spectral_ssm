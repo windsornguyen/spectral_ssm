{
 "cells": [
  {
   "cell_type": "code",
   "execution_count": 4,
   "id": "bb26107a",
   "metadata": {},
   "outputs": [],
   "source": [
    "import torch\n",
    "import torch.nn.functional as F"
   ]
  },
  {
   "cell_type": "code",
   "execution_count": 5,
   "id": "0230355c",
   "metadata": {},
   "outputs": [
    {
     "name": "stdout",
     "output_type": "stream",
     "text": [
      "Running on device: cuda\n"
     ]
    }
   ],
   "source": [
    "device = 'cuda' if torch.cuda.is_available() else 'cpu'\n",
    "print(f'Running on device: {device}')"
   ]
  },
  {
   "cell_type": "code",
   "execution_count": 6,
   "id": "b470389d-a897-416e-9601-aeacb39cd694",
   "metadata": {},
   "outputs": [
    {
     "name": "stdout",
     "output_type": "stream",
     "text": [
      "torch.Size([33, 20, 26])\n"
     ]
    },
    {
     "ename": "",
     "evalue": "",
     "output_type": "error",
     "traceback": [
      "\u001b[1;31mThe Kernel crashed while executing code in the current cell or a previous cell. \n",
      "\u001b[1;31mPlease review the code in the cell(s) to identify a possible cause of the failure. \n",
      "\u001b[1;31mClick <a href='https://aka.ms/vscodeJupyterKernelCrash'>here</a> for more info. \n",
      "\u001b[1;31mView Jupyter <a href='command:jupyter.viewOutput'>log</a> for further details."
     ]
    }
   ],
   "source": [
    "# Example input tensor (batch_size, in_channels, iW)\n",
    "batch_size = 33\n",
    "in_channels = 16\n",
    "iW = 30\n",
    "input_tensor = torch.randn(batch_size, in_channels, iW)\n",
    "\n",
    "# Example weight tensor (out_channels, in_channels/groups, kW)\n",
    "out_channels = 20\n",
    "kW = 5\n",
    "weight_tensor = torch.randn(out_channels, in_channels, kW)\n",
    "\n",
    "# Optional bias tensor (out_channels)\n",
    "bias_tensor = torch.randn(out_channels)\n",
    "\n",
    "# Apply 1D convolution\n",
    "output_tensor = F.conv1d(input_tensor, weight_tensor, bias=bias_tensor, stride=1, padding=0, dilation=1, groups=1)\n",
    "\n",
    "print(output_tensor.shape)  # Output shape"
   ]
  }
 ],
 "metadata": {
  "kernelspec": {
   "display_name": "Python 3",
   "language": "python",
   "name": "python3"
  },
  "language_info": {
   "codemirror_mode": {
    "name": "ipython",
    "version": 3
   },
   "file_extension": ".py",
   "mimetype": "text/x-python",
   "name": "python",
   "nbconvert_exporter": "python",
   "pygments_lexer": "ipython3",
   "version": "3.11.8"
  }
 },
 "nbformat": 4,
 "nbformat_minor": 5
}
